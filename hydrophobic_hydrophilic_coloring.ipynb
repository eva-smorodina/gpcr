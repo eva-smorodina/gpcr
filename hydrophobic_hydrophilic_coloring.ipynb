{
 "cells": [
  {
   "cell_type": "code",
   "execution_count": 1,
   "metadata": {},
   "outputs": [],
   "source": [
    "# Launch PyMOL with the \"-R\" option (pymol -R), \n",
    "# open a Python 3 notebook, then execute \n",
    "# remote control of PyMOL (RPC) with XML-RPC:\n",
    "# https://pymolwiki.org/index.php/Jupyter\n",
    "# https://pymolwiki.org/index.php/RPC\n",
    "\n",
    "import xmlrpc.client as xmlrpclib\n",
    "cmd = xmlrpclib.ServerProxy('http://localhost:9123')\n",
    "\n",
    "from IPython import display"
   ]
  },
  {
   "cell_type": "code",
   "execution_count": 2,
   "metadata": {},
   "outputs": [
    {
     "name": "stdout",
     "output_type": "stream",
     "text": [
      "/home/eva/Internships/Labs/Shuguang_Zhang/Structure_prediction/AlphaFold2_predictions/structures/{}\n"
     ]
    }
   ],
   "source": [
    "path = str(input()) # type /path/to/download/folder/{} "
   ]
  },
  {
   "cell_type": "code",
   "execution_count": 3,
   "metadata": {},
   "outputs": [],
   "source": [
    "exp_temp = '{}_refined.pdb'\n",
    "mod_temp = '{}_relaxed_model_1.pdb'"
   ]
  },
  {
   "cell_type": "code",
   "execution_count": 4,
   "metadata": {},
   "outputs": [],
   "source": [
    "d = {'CCR5': ['6MEO', 'P51681'],\n",
    "     'CCR9': ['5LWE', 'P51686'],\n",
    "     'CXCR2': ['6LFO', 'P25025'],\n",
    "     'CXCR4': ['3OE8', 'P61073']}"
   ]
  },
  {
   "cell_type": "code",
   "execution_count": 5,
   "metadata": {},
   "outputs": [
    {
     "name": "stdout",
     "output_type": "stream",
     "text": [
      "CCR5\n",
      "CCR9\n",
      "CXCR2\n",
      "CXCR4\n"
     ]
    }
   ],
   "source": [
    "cmd.reinitialize \n",
    "\n",
    "for i in d.items():\n",
    "    print(i[0])\n",
    "    exp = path.format(i[0]) + '/' + exp_temp.format(i[1][0])\n",
    "    mod = path.format(i[0]) + '/' + mod_temp.format(i[1][1])\n",
    "    cmd.load(exp, i[1][0])\n",
    "    cmd.load(mod, i[1][1])"
   ]
  },
  {
   "cell_type": "code",
   "execution_count": 6,
   "metadata": {},
   "outputs": [],
   "source": [
    "cmd.do('''\n",
    "align 5LWE, 6MEO\n",
    "align 6LFO, 6MEO\n",
    "align 3OE8, 6MEO\n",
    "\n",
    "align P51681, 6MEO\n",
    "align P51686, 5LWE\n",
    "align P25025, 6LFO\n",
    "align P61073, 3OE8\n",
    "\n",
    "bg_color white\n",
    "hide everything\n",
    "show sticks, ss H+S\n",
    "show spheres, ss H+S\n",
    "set stick_radius, .15\n",
    "set sphere_scale, .18\n",
    "set sphere_scale, .13, elem H\n",
    "set stick_quality, 50\n",
    "set sphere_quality, 4\n",
    "set sphere_quality, 4\n",
    "\n",
    "color gray85, all\n",
    "\n",
    "set ray_trace_mode, 1\n",
    "set ray_texture, 0\n",
    "set antialias, 3\n",
    "set ambient, 0.2\n",
    "set spec_count, 5\n",
    "set shininess, 50\n",
    "set specular, 1\n",
    "set reflect, .4\n",
    "set dash_color, paleyellow\n",
    "set dash_gap, .15\n",
    "set dash_length, .1\n",
    "set dash_round_ends, 0\n",
    "set dash_radius, .05\n",
    "\n",
    "set_color r, [190, 0, 138]\n",
    "set_color dg, [0, 191, 50]\n",
    "\n",
    "color r, resn GLN+THR+TYR and name CA\n",
    "color dg, resn ILE+LEU+VAL+PHE and name CA\n",
    "\n",
    "show spheres, resn ASP+GLU+ALA+ILE+LEU+VAL+GLY+MET+THR+LYS+ARG+GLN+PRO+SER+TRP+TYR and name CA and ss H+S\n",
    "\n",
    "set sphere_scale, 0.7, name CA\n",
    "show cartoon, ss H+S\n",
    "set cartoon_transparency, 0.1, all\n",
    "set cartoon_gap_cutoff, 0 \n",
    "\n",
    "center\n",
    "orient\n",
    "set grid_mode,1\n",
    "''')\n",
    "\n",
    "#draw or ray 3000, 2000"
   ]
  }
 ],
 "metadata": {
  "kernelspec": {
   "display_name": "chemenv",
   "language": "python",
   "name": "chemenv"
  },
  "language_info": {
   "codemirror_mode": {
    "name": "ipython",
    "version": 3
   },
   "file_extension": ".py",
   "mimetype": "text/x-python",
   "name": "python",
   "nbconvert_exporter": "python",
   "pygments_lexer": "ipython3",
   "version": "3.7.10"
  }
 },
 "nbformat": 4,
 "nbformat_minor": 4
}
